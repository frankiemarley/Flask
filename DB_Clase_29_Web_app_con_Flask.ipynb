{
  "nbformat": 4,
  "nbformat_minor": 0,
  "metadata": {
    "colab": {
      "provenance": []
    },
    "kernelspec": {
      "name": "python3",
      "display_name": "Python 3"
    },
    "language_info": {
      "name": "python"
    }
  },
  "cells": [
    {
      "cell_type": "markdown",
      "source": [
        "<div align=\"right\">\n",
        "  <img src=\"https://drive.google.com/uc?export=view&id=1J8JpP65HsHXdpJvhb_sMwn3yROyU832m\" height=\"80\" width=\"200\" style=\"float: right;\">\n",
        "</div>\n",
        "<h1><b>Data Science and Machine Learning</b></h1>\n",
        "<h2><b>Clase 29</b>: Desplegar modelos IA con Flask</h2>\n",
        "<h3><b>Docente</b>: <a href=\"https://www.linkedin.com/in/danielablanco/\">Daniela Blanco</a>"
      ],
      "metadata": {
        "id": "Wp4cyu16yiif"
      }
    },
    {
      "cell_type": "markdown",
      "source": [
        "# Contenido\n",
        "\n",
        "- [1. Despliegue de modelos](#despliegue)\n",
        "  - [1.1. Flask](#flask)\n",
        "  - [1.2. Local vs remoto](#nube)\n",
        "- [2. Ejemplo de uso local](#local)\n",
        "  - [2.1. Personalizando la aplicacion](#local2)\n",
        "- [3. Ejemplo de uso remoto con Render](#render)\n",
        "- [4. Links de interés](#links)\n"
      ],
      "metadata": {
        "id": "XEmijBfl2b_I"
      }
    },
    {
      "cell_type": "code",
      "source": [
        "import pandas as pd\n",
        "import numpy as np\n",
        "\n",
        "from sklearn.datasets import load_iris\n",
        "from sklearn.model_selection import train_test_split\n",
        "\n",
        "from sklearn import tree\n",
        "from sklearn.tree import DecisionTreeClassifier\n",
        "\n",
        "from sklearn.metrics import accuracy_score\n",
        "from sklearn.metrics import f1_score\n",
        "from sklearn.metrics import precision_score\n",
        "from sklearn.metrics import recall_score\n",
        "from sklearn.metrics import classification_report\n",
        "\n",
        "from pickle import dump\n",
        "\n",
        "import warnings"
      ],
      "metadata": {
        "id": "cPtXYusox8X4"
      },
      "execution_count": 1,
      "outputs": []
    },
    {
      "cell_type": "code",
      "source": [
        "warnings.filterwarnings(\"ignore\")"
      ],
      "metadata": {
        "id": "XQZiW-SCCQSK"
      },
      "execution_count": null,
      "outputs": []
    },
    {
      "cell_type": "markdown",
      "source": [
        "## 1. Despliegue de modelos <a name=\"despliegue\"></a>"
      ],
      "metadata": {
        "id": "Pw6lT_8L3Bny"
      }
    },
    {
      "cell_type": "markdown",
      "source": [
        "<img src=\"https://drive.google.com/uc?export=view&id=1uAYnBKtvN9K1U55KdZKz7duc8WxBrN7-\" height=\"205\" width=\"620\" style=\"float: center;\">"
      ],
      "metadata": {
        "id": "XlGxqok8qZon"
      }
    },
    {
      "cell_type": "markdown",
      "source": [
        "**Deployment** (despliegue en español) es el proceso de hacer que una aplicación o modelo de IA esté disponible para los usuarios finales.\n",
        "\n",
        "Tras la fase de desarrollo del modelo, tendremos un modelo final según nuestras expectativas y que satisface nuestras necesidades.\n",
        "\n",
        "Para que este modelo sea útil y cumpla la función para la que ha sido entrenado, debemos ponerlo a disposición en algún entorno que nos permita su utilización.\n",
        "\n",
        "Un forma de disponibilizarlo es a través de aplicaciones Web o **web app**.\n",
        "\n",
        "Generalmente las tareas de puesta en producción las hace un perfil de ingeniero de datos. No obstante al científico de datos las herramientas presentadas a contionuación le brindarán una forma rápida de **prototipar** y disponibilizar un desarrollo."
      ],
      "metadata": {
        "id": "MrE2Gc3Ygk8X"
      }
    },
    {
      "cell_type": "markdown",
      "source": [
        "### 1.1. Flask <a name=\"flask\"></a>"
      ],
      "metadata": {
        "id": "yti-U5XT_aea"
      }
    },
    {
      "cell_type": "markdown",
      "source": [
        "Flask es un marco de trabajo (**framework**) de **Python** pequeño y liviano que proporciona herramientas y características útiles que facilitan la **creación de aplicaciones web**.\n",
        "\n",
        "Proporciona las herramientas esenciales para el desarrollo web, como enrutamiento, manejo de solicitudes y respuestas, y plantillas HTML mediante Jinja2."
      ],
      "metadata": {
        "id": "SYnshS3JrYdv"
      }
    },
    {
      "cell_type": "markdown",
      "source": [
        "### 1.2. Local vs remoto <a name=\"nube\"></a>"
      ],
      "metadata": {
        "id": "3R4AQV-JrK5l"
      }
    },
    {
      "cell_type": "markdown",
      "source": [
        "Inicialmente es recomentable probar nuestro aplicación web de forma local para testear su funcionamiento y configuración.\n",
        "\n",
        "Luego para disponibilizar nuestro modelo vamos a recurrir a un servicio en la nube que nos brinde alojamiento para el mismo.\n",
        "\n",
        "**Render.com**\n",
        "\n",
        "Render.com es una plataforma de alojamiento en la nube que facilita el despliegue de aplicaciones web.\n",
        "\n",
        "Render.com soporta despliegue directo desde repositorios de Git, y puede manejar aplicaciones construidas con diversas tecnologías.\n",
        "\n",
        "Es una opción popular para desplegar aplicaciones Flask y modelos de IA debido a su simplicidad.\n",
        "\n",
        "**Heroku**\n",
        "\n",
        "Heroku es una plataforma como servicio (PaaS) que permite a los desarrolladores construir, ejecutar y operar aplicaciones completamente en la nube. Heroku es conocida por su simplicidad y facilidad de uso, especialmente para despliegues rápidos de aplicaciones web.\n",
        "\n",
        "Heroku soporta varias lenguajes de programación y proporciona un entorno de despliegue automático a partir de repositorios de Git."
      ],
      "metadata": {
        "id": "adrKmh5ssQFZ"
      }
    },
    {
      "cell_type": "markdown",
      "source": [
        "## 2. Ejemplo de uso local <a name=\"local\"></a>"
      ],
      "metadata": {
        "id": "0EFjo2dfrz3W"
      }
    },
    {
      "cell_type": "markdown",
      "source": [
        "Dado un modelo en formato .pkl vamos a generar una aplicación web (formulario que pedirá al usuario los datos nuevos a predecir), la cual conectará con el modelo, realizará la predicción correspondiente e informará el resutlado al navegante.\n",
        "\n",
        "Pasos:\n",
        "\n",
        "- **Paso 1: Generar el modelo**\n",
        "- **Paso 2: Creación de un entorno virtual para la aplicación**\n",
        "- **Paso 3: Instalación de las dependencias requeridas según el proyecto**\n",
        "- **Paso 4: Creación de la aplicacion con Flask**\n",
        "- **Paso 5: Ejecutar la aplicación**"
      ],
      "metadata": {
        "id": "iZmHz7s11EfN"
      }
    },
    {
      "cell_type": "markdown",
      "source": [
        "**Paso 1: Generar el modelo**"
      ],
      "metadata": {
        "id": "D6cz08Nx1o4j"
      }
    },
    {
      "cell_type": "markdown",
      "source": [
        "Integraremos el modelo de clasificación que hemos desarrollado en el módulo de los árboles de decisión.\n",
        "\n",
        "Se trabajo con el dataset iris para predecir el tipo de flor. Siendo la clase 0 una iris setosa, la 1 una iris versicolor y la 2 una iris virginica.\n",
        "\n",
        "El modelo decision_tree_classifier_default_42.sav se ha guardado en un objeto Pickle de tal forma que pueda ser utilizado para desplegarlo en un servicio web."
      ],
      "metadata": {
        "id": "TyW-RMr02wzi"
      }
    },
    {
      "cell_type": "code",
      "source": [
        "X, y = load_iris(return_X_y = True, as_frame = True)"
      ],
      "metadata": {
        "id": "PaF7CZP83Yns"
      },
      "execution_count": 2,
      "outputs": []
    },
    {
      "cell_type": "code",
      "source": [
        "# split\n",
        "X_train, X_test, y_train, y_test = train_test_split(X, y, test_size = 0.2, random_state = 42)"
      ],
      "metadata": {
        "id": "QHJsHgG434kw"
      },
      "execution_count": 3,
      "outputs": []
    },
    {
      "cell_type": "code",
      "source": [
        "# modelo\n",
        "model = DecisionTreeClassifier(random_state = 42)\n",
        "\n",
        "# entrenamiento\n",
        "model.fit(X_train, y_train)"
      ],
      "metadata": {
        "colab": {
          "base_uri": "https://localhost:8080/",
          "height": 75
        },
        "id": "N4mLO1NP385S",
        "outputId": "fd99ba8d-aa70-4d7f-aa62-57bfd8f822bf"
      },
      "execution_count": 4,
      "outputs": [
        {
          "output_type": "execute_result",
          "data": {
            "text/plain": [
              "DecisionTreeClassifier(random_state=42)"
            ],
            "text/html": [
              "<style>#sk-container-id-1 {color: black;}#sk-container-id-1 pre{padding: 0;}#sk-container-id-1 div.sk-toggleable {background-color: white;}#sk-container-id-1 label.sk-toggleable__label {cursor: pointer;display: block;width: 100%;margin-bottom: 0;padding: 0.3em;box-sizing: border-box;text-align: center;}#sk-container-id-1 label.sk-toggleable__label-arrow:before {content: \"▸\";float: left;margin-right: 0.25em;color: #696969;}#sk-container-id-1 label.sk-toggleable__label-arrow:hover:before {color: black;}#sk-container-id-1 div.sk-estimator:hover label.sk-toggleable__label-arrow:before {color: black;}#sk-container-id-1 div.sk-toggleable__content {max-height: 0;max-width: 0;overflow: hidden;text-align: left;background-color: #f0f8ff;}#sk-container-id-1 div.sk-toggleable__content pre {margin: 0.2em;color: black;border-radius: 0.25em;background-color: #f0f8ff;}#sk-container-id-1 input.sk-toggleable__control:checked~div.sk-toggleable__content {max-height: 200px;max-width: 100%;overflow: auto;}#sk-container-id-1 input.sk-toggleable__control:checked~label.sk-toggleable__label-arrow:before {content: \"▾\";}#sk-container-id-1 div.sk-estimator input.sk-toggleable__control:checked~label.sk-toggleable__label {background-color: #d4ebff;}#sk-container-id-1 div.sk-label input.sk-toggleable__control:checked~label.sk-toggleable__label {background-color: #d4ebff;}#sk-container-id-1 input.sk-hidden--visually {border: 0;clip: rect(1px 1px 1px 1px);clip: rect(1px, 1px, 1px, 1px);height: 1px;margin: -1px;overflow: hidden;padding: 0;position: absolute;width: 1px;}#sk-container-id-1 div.sk-estimator {font-family: monospace;background-color: #f0f8ff;border: 1px dotted black;border-radius: 0.25em;box-sizing: border-box;margin-bottom: 0.5em;}#sk-container-id-1 div.sk-estimator:hover {background-color: #d4ebff;}#sk-container-id-1 div.sk-parallel-item::after {content: \"\";width: 100%;border-bottom: 1px solid gray;flex-grow: 1;}#sk-container-id-1 div.sk-label:hover label.sk-toggleable__label {background-color: #d4ebff;}#sk-container-id-1 div.sk-serial::before {content: \"\";position: absolute;border-left: 1px solid gray;box-sizing: border-box;top: 0;bottom: 0;left: 50%;z-index: 0;}#sk-container-id-1 div.sk-serial {display: flex;flex-direction: column;align-items: center;background-color: white;padding-right: 0.2em;padding-left: 0.2em;position: relative;}#sk-container-id-1 div.sk-item {position: relative;z-index: 1;}#sk-container-id-1 div.sk-parallel {display: flex;align-items: stretch;justify-content: center;background-color: white;position: relative;}#sk-container-id-1 div.sk-item::before, #sk-container-id-1 div.sk-parallel-item::before {content: \"\";position: absolute;border-left: 1px solid gray;box-sizing: border-box;top: 0;bottom: 0;left: 50%;z-index: -1;}#sk-container-id-1 div.sk-parallel-item {display: flex;flex-direction: column;z-index: 1;position: relative;background-color: white;}#sk-container-id-1 div.sk-parallel-item:first-child::after {align-self: flex-end;width: 50%;}#sk-container-id-1 div.sk-parallel-item:last-child::after {align-self: flex-start;width: 50%;}#sk-container-id-1 div.sk-parallel-item:only-child::after {width: 0;}#sk-container-id-1 div.sk-dashed-wrapped {border: 1px dashed gray;margin: 0 0.4em 0.5em 0.4em;box-sizing: border-box;padding-bottom: 0.4em;background-color: white;}#sk-container-id-1 div.sk-label label {font-family: monospace;font-weight: bold;display: inline-block;line-height: 1.2em;}#sk-container-id-1 div.sk-label-container {text-align: center;}#sk-container-id-1 div.sk-container {/* jupyter's `normalize.less` sets `[hidden] { display: none; }` but bootstrap.min.css set `[hidden] { display: none !important; }` so we also need the `!important` here to be able to override the default hidden behavior on the sphinx rendered scikit-learn.org. See: https://github.com/scikit-learn/scikit-learn/issues/21755 */display: inline-block !important;position: relative;}#sk-container-id-1 div.sk-text-repr-fallback {display: none;}</style><div id=\"sk-container-id-1\" class=\"sk-top-container\"><div class=\"sk-text-repr-fallback\"><pre>DecisionTreeClassifier(random_state=42)</pre><b>In a Jupyter environment, please rerun this cell to show the HTML representation or trust the notebook. <br />On GitHub, the HTML representation is unable to render, please try loading this page with nbviewer.org.</b></div><div class=\"sk-container\" hidden><div class=\"sk-item\"><div class=\"sk-estimator sk-toggleable\"><input class=\"sk-toggleable__control sk-hidden--visually\" id=\"sk-estimator-id-1\" type=\"checkbox\" checked><label for=\"sk-estimator-id-1\" class=\"sk-toggleable__label sk-toggleable__label-arrow\">DecisionTreeClassifier</label><div class=\"sk-toggleable__content\"><pre>DecisionTreeClassifier(random_state=42)</pre></div></div></div></div></div>"
            ]
          },
          "metadata": {},
          "execution_count": 4
        }
      ]
    },
    {
      "cell_type": "code",
      "source": [
        "# predicción\n",
        "y_pred_test = model.predict(X_test)\n",
        "y_pred_test"
      ],
      "metadata": {
        "colab": {
          "base_uri": "https://localhost:8080/"
        },
        "id": "XFlRCTM94HX_",
        "outputId": "52885173-1315-44e4-ef15-2e5fc30b82df"
      },
      "execution_count": 6,
      "outputs": [
        {
          "output_type": "execute_result",
          "data": {
            "text/plain": [
              "array([1, 0, 2, 1, 1, 0, 1, 2, 1, 1, 2, 0, 0, 0, 0, 1, 2, 1, 1, 2, 0, 2,\n",
              "       0, 2, 2, 2, 2, 2, 0, 0])"
            ]
          },
          "metadata": {},
          "execution_count": 6
        }
      ]
    },
    {
      "cell_type": "code",
      "source": [
        "# metricas\n",
        "accuracy_test = accuracy_score(y_test, y_pred_test)\n",
        "\n",
        "f1_score_test = f1_score(y_test, y_pred_test, average='micro')\n",
        "\n",
        "precision_test = precision_score(y_test, y_pred_test, average='micro')\n",
        "\n",
        "recall_test = recall_score(y_test, y_pred_test, average='micro')\n",
        "\n",
        "print(\"Accuracy Test: \", accuracy_test)\n",
        "print(\"F1 score Test: \", f1_score_test)\n",
        "print(\"Precision Test: \", precision_test)\n",
        "print(\"Recall Test: \", recall_test)"
      ],
      "metadata": {
        "colab": {
          "base_uri": "https://localhost:8080/"
        },
        "id": "G9eE8fJG4Aek",
        "outputId": "2cd2b528-8e64-46ae-e65e-db21b56a182b"
      },
      "execution_count": 7,
      "outputs": [
        {
          "output_type": "stream",
          "name": "stdout",
          "text": [
            "Accuracy Test:  1.0\n",
            "F1 score Test:  1.0\n",
            "Precision Test:  1.0\n",
            "Recall Test:  1.0\n"
          ]
        }
      ]
    },
    {
      "cell_type": "code",
      "source": [
        "print(classification_report(y_test, y_pred_test, target_names=[\"iris setosa\", \"iris versicolor\", \"iris virginica\"]))"
      ],
      "metadata": {
        "id": "K_AS9w7H4OEd"
      },
      "execution_count": null,
      "outputs": []
    },
    {
      "cell_type": "code",
      "source": [
        "dump(model, open(\"decision_tree_classifier_default_42.sav\", \"wb\"))"
      ],
      "metadata": {
        "id": "msAptIID4QAE"
      },
      "execution_count": 8,
      "outputs": []
    },
    {
      "cell_type": "code",
      "source": [
        "print(sklearn.__version__)"
      ],
      "metadata": {
        "id": "x1AHgXKAGhW2"
      },
      "execution_count": null,
      "outputs": []
    },
    {
      "cell_type": "markdown",
      "source": [
        "**Paso 2: Creación de un entorno virtual para la aplicación**"
      ],
      "metadata": {
        "id": "2kxZTZUG2D6L"
      }
    },
    {
      "cell_type": "markdown",
      "source": [
        "Crear un entorno virtual en Python es una buena práctica para aislar las dependencias de tu proyecto y evitar conflictos con otras bibliotecas instaladas globalmente.\n",
        "\n",
        "1. Instalar virtualenv si no lo tienes ya. Puedes hacerlo usando pip:\n",
        "\n",
        "  `pip install virtualenv`\n",
        "\n",
        "2. Navega al directorio de tu proyecto y crea un entorno virtual. Puedes nombrar el entorno virtual como desees:\n",
        "\n",
        "  ```\n",
        "  cd tu_directorio_del_proyecto\n",
        "  virtualenv primer_modelo_flask\n",
        "  ```\n",
        "\n",
        "3. Activar el Entorno Virtual: Para activar el entorno virtual, utiliza los siguientes comandos dependiendo de tu sistema operativo:\n",
        "\n",
        "  ```\n",
        "  En Windows:\n",
        "    primer_modelo_flask\\Scripts\\activate\n",
        "  En macOS y Linux:\n",
        "    source primer_modelo_flask/bin/activate\n",
        "  ```\n",
        "\n",
        "  Una vez activado, deberías ver el nombre del entorno virtual en tu terminal, indicando que está activo.\n",
        "\n",
        "  Podemos desactivarlo con `deactivate` y luego borrar su carpeta."
      ],
      "metadata": {
        "id": "8VARbCfi4bDI"
      }
    },
    {
      "cell_type": "markdown",
      "source": [
        "**Paso 3: Instalación de las dependencias requeridas según el proyecto**"
      ],
      "metadata": {
        "id": "-YzyodKm2J77"
      }
    },
    {
      "cell_type": "markdown",
      "source": [
        "Con el entorno virtual activado, debes instalar las librerías que tu proyecto necesita.\n",
        "\n",
        "Generar un archivo requirements.txt con las dependencias de tu proyecto\n",
        "\n",
        "Puedes instalar todas las librerías listadas en ese archivo con un solo comando:\n",
        "\n",
        "  `pip install -r requirements.txt`"
      ],
      "metadata": {
        "id": "6JAYitNW5zBu"
      }
    },
    {
      "cell_type": "markdown",
      "source": [
        "**Paso 4: Creación de la aplicacion con Flask**"
      ],
      "metadata": {
        "id": "iBtk8sZx15kj"
      }
    },
    {
      "cell_type": "markdown",
      "source": [
        "Ahora generaremos una aplicación sencilla utilizando la librería Flask. En el directorio src, creamos un archivo nuevo llamado app.py que modificaremos con el siguiente código (ver ejemplo app_basico.py):"
      ],
      "metadata": {
        "id": "nedCLgkt85nl"
      }
    },
    {
      "cell_type": "code",
      "source": [
        "from flask import Flask\n",
        "app = Flask(__name__)\n",
        "\n",
        "@app.route(\"/\")\n",
        "def hello_world():\n",
        "    return \"Hello, World!\""
      ],
      "metadata": {
        "id": "aZKNmEox8xO5"
      },
      "execution_count": null,
      "outputs": []
    },
    {
      "cell_type": "markdown",
      "source": [
        "Primero importa el objeto Flask del paquete Flask. Luego lo usará para crear su instancia de la aplicación Flask con el nombre app. Pasa la variable especial __name__ que contiene el nombre del módulo de Python actual. Se utiliza para decirle a la instancia dónde se encuentra.\n",
        "\n",
        "La ruta indica que la aplicación está en la raíz. Y solamente va a imprimir un mensaje.\n",
        "\n",
        "Una vez que crea la instancia de la aplicación, la usa para manejar las solicitudes web entrantes y enviar respuestas al usuario."
      ],
      "metadata": {
        "id": "ipxvseBn-t3A"
      }
    },
    {
      "cell_type": "markdown",
      "source": [
        "**Paso 5: Ejecutar la aplicación**"
      ],
      "metadata": {
        "id": "9osEXvQ32P9z"
      }
    },
    {
      "cell_type": "markdown",
      "source": [
        "Para ejecutar su aplicación web, primero le indicarás a Flask dónde encontrar la aplicación. El nombre del archivo donde esta la aplicación (en este caso app.py) con la variable de entorno FLASK_APP:"
      ],
      "metadata": {
        "id": "xeS_twC__Y8Z"
      }
    },
    {
      "cell_type": "code",
      "source": [
        "export FLASK_APP=app"
      ],
      "metadata": {
        "id": "Ms6k05KB_ysQ"
      },
      "execution_count": null,
      "outputs": []
    },
    {
      "cell_type": "markdown",
      "source": [
        "Luego, ejecútalo en modo desarrollo con la variable de entorno FLASK_ENV:"
      ],
      "metadata": {
        "id": "FQHd1NpX_4z9"
      }
    },
    {
      "cell_type": "code",
      "source": [
        "export FLASK_ENV=development"
      ],
      "metadata": {
        "id": "MPDxUem-_5Mx"
      },
      "execution_count": null,
      "outputs": []
    },
    {
      "cell_type": "markdown",
      "source": [
        "Modeo debug activado"
      ],
      "metadata": {
        "id": "MfSFT0c1B38i"
      }
    },
    {
      "cell_type": "code",
      "source": [
        "export FLASK_DEBUG=1"
      ],
      "metadata": {
        "id": "AiGBXgvgB3KP"
      },
      "execution_count": null,
      "outputs": []
    },
    {
      "cell_type": "markdown",
      "source": [
        "Finalmente, ejecuta la aplicación usando flask run:"
      ],
      "metadata": {
        "id": "DnDIPMQe_6hG"
      }
    },
    {
      "cell_type": "code",
      "source": [
        "flask run"
      ],
      "metadata": {
        "id": "aA2anmLv_8Ho"
      },
      "execution_count": null,
      "outputs": []
    },
    {
      "cell_type": "markdown",
      "source": [
        "**Nota**: en windows es set en lugar de export.\n",
        "\n",
        "Otra forma para ejecutar la aplicación uar la librería de Python `gunicorn`. Simplemente debemos instalarla, acceder con la consola al directorio donde se encuentra el script y ejecutar gunicorn app:app.\n",
        "\n",
        "La aplicación se ejecuta localmente en la URL http://127.0.0.1:5000/, 127.0.0.1 es la IP que representa el host local de su computadora y :5000 es el número de puerto."
      ],
      "metadata": {
        "id": "1Rjvv3c5BQC3"
      }
    },
    {
      "cell_type": "markdown",
      "source": [
        "### 2.1. Personalizando la aplicacion <a name=\"local2\"></a>\n",
        "\n",
        "Queremos integrar el árbol de decisión entrenado para el conjunto de datos de Iris del repositorio UCI de Machine Learning. Este conjunto de datos cuenta con 4 variables predictoras: anchura del pétalo (petal width (cm)), longitud del pétalo (petal length (cm)), anchura del sépalo (sepal width (cm)) y longitud del sépalo (sepal length (cm)).\n",
        "\n",
        "Crearemos un HTML que permita introducir un valor para cada variable para poder llevar a cabo la predicción."
      ],
      "metadata": {
        "id": "pP6s-WoGDNyc"
      }
    },
    {
      "cell_type": "code",
      "source": [
        "<!DOCTYPE html>\n",
        "<html>\n",
        "<head>\n",
        "    <title>Iris - Model prediction</title>\n",
        "</head>\n",
        "<body>\n",
        "    <h2>Introduce the values</h2>\n",
        "\n",
        "    <form action=\"/\" method=\"post\">\n",
        "        Petal width: <input type=\"number\" step=\"any\" name=\"val1\" required><br><br>\n",
        "        Petal length: <input type=\"number\" step=\"any\" name=\"val2\" required><br><br>\n",
        "        Sepal width: <input type=\"number\" step=\"any\" name=\"val3\" required><br><br>\n",
        "        Sepal length: <input type=\"number\" step=\"any\" name=\"val4\" required><br><br>\n",
        "        <input type=\"submit\" value=\"Predict\">\n",
        "    </form>\n",
        "\n",
        "    {% if prediction != None %}\n",
        "        <h3>Prediction: {{ prediction }}</h3>\n",
        "    {% endif %}\n",
        "</body>\n",
        "</html>"
      ],
      "metadata": {
        "id": "6K1QV1QnD8M3"
      },
      "execution_count": null,
      "outputs": []
    },
    {
      "cell_type": "markdown",
      "source": [
        "Este HTML contiene un título y un formulario en el que se deben introducir los valores asociados a cada campo. A continuación, pulsando sobre el botón Predict aparecerá un elemento que contiene la predicción del modelo, en función de los valores introducidos. En el HTML hay unas sentencias entre llaves que es código Python puro, una curiosa sintaxis que utiliza Flask para introducir valores de manera dinámica.\n",
        "\n",
        "Todas las plantillas HTML que generemos deben ir en una carpeta templates que se debe crear al mismo nivel que el app.py. Llamamos a este fichero index.html y lo almacenamos en la carpeta."
      ],
      "metadata": {
        "id": "_eixElLwD86I"
      }
    },
    {
      "cell_type": "markdown",
      "source": [
        "Además de crear la plantilla anterior, debemos actualizar el código para que se alimente del HTML, reciba los campos y pueda devolver una predicción. Así, el archivo app.py lo actualizaríamos:"
      ],
      "metadata": {
        "id": "9e0mW1S7EGz4"
      }
    },
    {
      "cell_type": "code",
      "source": [
        "from flask import Flask, request, render_template\n",
        "from pickle import load\n",
        "\n",
        "app = Flask(__name__)\n",
        "model = load(open(\"../models/decision_tree_classifier_default_42.sav\", \"rb\"))\n",
        "class_dict = {\n",
        "    \"0\": \"Iris setosa\",\n",
        "    \"1\": \"Iris versicolor\",\n",
        "    \"2\": \"Iris virginica\"\n",
        "}\n",
        "\n",
        "@app.route(\"/\", methods = [\"GET\", \"POST\"])\n",
        "def index():\n",
        "    if request.method == \"POST\":\n",
        "\n",
        "        # Obtain values from form\n",
        "        val1 = float(request.form[\"val1\"])\n",
        "        val2 = float(request.form[\"val2\"])\n",
        "        val3 = float(request.form[\"val3\"])\n",
        "        val4 = float(request.form[\"val4\"])\n",
        "\n",
        "        data = [[val1, val2, val3, val4]]\n",
        "        prediction = str(model.predict(data)[0])\n",
        "        pred_class = class_dict[prediction]\n",
        "    else:\n",
        "        pred_class = None\n",
        "\n",
        "    return render_template(\"index.html\", prediction = pred_class)"
      ],
      "metadata": {
        "id": "K8wv3-qCEsWZ"
      },
      "execution_count": null,
      "outputs": []
    },
    {
      "cell_type": "markdown",
      "source": [
        "Hemos creado la función `index`, que reemplaza a la antigua `hello_world` y que se nutre de los valores que se introduzcan en el HTML para desencadenar el proceso de predicción.\n",
        "\n",
        "Esto es así porque cuando se hace clic sobre el botón Predict, se envía una petición `POST` al script y se leen los valores introducidos en el formulario del HTML para realizar la predicción.\n",
        "\n",
        "En última instancia, el método devuelve el HTML renderizado, en este caso con el valor de la predicción en función de los valores."
      ],
      "metadata": {
        "id": "Alp6Hs_sE5c8"
      }
    },
    {
      "cell_type": "markdown",
      "source": [
        "Reemplazar el archivo app.py y volver a ejecutar la aplicación.\n",
        "\n",
        "Probar predicciones:\n",
        "- Petal width 2.5\n",
        "- Petal length: 1.2\n",
        "- Sepal Width: 2.7\n",
        "- Sepal length: 1.5"
      ],
      "metadata": {
        "id": "aRPaItLBFBK1"
      }
    },
    {
      "cell_type": "markdown",
      "source": [
        "## 3. Ejemplo de uso remoto con Render <a name=\"render\"></a>"
      ],
      "metadata": {
        "id": "ohpWyP-uKedH"
      }
    },
    {
      "cell_type": "markdown",
      "source": [
        "**Paso 1. Registro en la plataforma**\n",
        "\n",
        "Para poder acceder a Render debemos tener una cuenta. Para registrarse se debe acceder al siguiente [enlace](https://dashboard.render.com/register)."
      ],
      "metadata": {
        "id": "jRomtFU2AO8v"
      }
    },
    {
      "cell_type": "markdown",
      "source": [
        "<img src=\"https://drive.google.com/uc?export=view&id=1PKKkPtbNOnOZALkFg6bhnvcB2fzimwoJ\" height=\"412\" width=\"900\" style=\"float: center;\">"
      ],
      "metadata": {
        "id": "ZQQvqegj0PKE"
      }
    },
    {
      "cell_type": "markdown",
      "source": [
        "**Paso 2. Crear un repositorio en Git**"
      ],
      "metadata": {
        "id": "Uo40OdlI0jtk"
      }
    },
    {
      "cell_type": "markdown",
      "source": [
        "Para integrar algo en Render primero debemos haber creado un repositorio en Git. El Git que vamos a generar en esta lección se encuentra [aquí](https://github.com/4GeeksAcademy/flask-render-integration), que deriva del Machine Learning Template de 4Geeks.\n",
        "\n",
        "Consiste en la misma aplicación flask vista anteriormente."
      ],
      "metadata": {
        "id": "n1-2jh3BLHJZ"
      }
    },
    {
      "cell_type": "markdown",
      "source": [
        "**Paso 3: Crear servicio en Render y desplegar la aplicación**"
      ],
      "metadata": {
        "id": "ReQjgFcgLiq0"
      }
    },
    {
      "cell_type": "markdown",
      "source": [
        "El último paso es configurar el servicio en Render y conectarlo con nuestro repositorio Git. Recomendado darle permiso solo a los repositorios que queremos de forma inDividual.\n",
        "\n",
        "Debemos ir al Dashboard de Render, seleccionar el apartado de `Web Services` y elegir el repositorio en el que hayamos subido todo el código y las carpetas anteriores.\n",
        "\n",
        "Una vez lo seleccionemos nos aparecerá un formulario como el siguiente:"
      ],
      "metadata": {
        "id": "2nBU4kDILljC"
      }
    },
    {
      "cell_type": "markdown",
      "source": [
        "<img src=\"https://drive.google.com/uc?export=view&id=17DN7dng3Y3NhQSF56R0XZeHR_d9wpDoP\" height=\"575\" width=\"939\" style=\"float: center;\">"
      ],
      "metadata": {
        "id": "hWhoSqC1Mt1O"
      }
    },
    {
      "cell_type": "markdown",
      "source": [
        "Deberemos rellenarlo con la siguiente información:\n",
        "\n",
        "- Name: El nombre que queramos que tenga nuestro servicio. Por ejemplo: flask-render-integration\n",
        "\n",
        "- Language: El código es Python, así que dejaremos el valor por defecto, Python 3.\n",
        "\n",
        "- Branch: La rama en la que se encuentra nuestro código actualizado. Deberemos dejar el valor por defecto, main.\n",
        "\n",
        "- Root Directory: En este caso hemos desarrollado el código dentro de la carpeta `src`, que incluye el script de Python, el template HTML y las librerías del proyecto (archivo requirements.txt), por lo que deberemos introducir `src`.\n",
        "\n",
        "- Build Command: Dejaremos el valor por defecto, pip install -r requirements.txt.\n",
        "\n",
        "- Start Command: valor por defecto, gunicorn app:app.\n",
        "\n",
        "Por último, elegiremos la tarifa gratuita."
      ],
      "metadata": {
        "id": "5P4WVRzUND4a"
      }
    },
    {
      "cell_type": "markdown",
      "source": [
        "En el siguiente paso nos aparecerá una consola con los registros (logs) del despliegue de la aplicación. El despliegue se hace paso a paso, clonando en primer lugar el repositorio, construyéndolo (build), instalando las dependencias, y, en último lugar, ejecutando el comando para lanzar la aplicación web."
      ],
      "metadata": {
        "id": "cGYTRMzXOJAs"
      }
    },
    {
      "cell_type": "markdown",
      "source": [
        "**Paso 4: Uso del servicio en Render**"
      ],
      "metadata": {
        "id": "31bXuLuAPMn9"
      }
    },
    {
      "cell_type": "markdown",
      "source": [
        "Una vez que el despliegue ha sido satisfactorio, accedemos a la aplicación desde el enlace situado debajo del nombre del servicio, y ya podemos utilizar la aplicación.\n",
        "\n",
        "La que hemos creado en esta lección está accesible en el siguiente enlace: [https://flask-render-integration-nv5r.onrender.com/](https://flask-render-integration-nv5r.onrender.com/)."
      ],
      "metadata": {
        "id": "UHx2ihXnPROu"
      }
    },
    {
      "cell_type": "markdown",
      "source": [
        "Probar predicciones:\n",
        "- Petal width 2.5\n",
        "- Petal length: 1.2\n",
        "- Sepal Width: 2.7\n",
        "- Sepal length: 1.5"
      ],
      "metadata": {
        "id": "7hQKYalHPcK1"
      }
    },
    {
      "cell_type": "markdown",
      "source": [
        "## 4. Links de interés <a name=\"links\"></a>"
      ],
      "metadata": {
        "id": "4ZLwGjES0O50"
      }
    },
    {
      "cell_type": "markdown",
      "source": [
        "- [Entornos virtuales y paquetes](https://docs.python.org/es/3/tutorial/venv.html)\n",
        "- [How Deploys Work](https://docs.render.com/deploys)\n",
        "- [Deploying a Machine Learning Model](https://jovian.com/biraj/deploying-a-machine-learning-model)"
      ],
      "metadata": {
        "id": "R75ytPht0dY7"
      }
    }
  ]
}